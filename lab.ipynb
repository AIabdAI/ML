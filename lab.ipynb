{
 "cells": [
  {
   "cell_type": "code",
   "execution_count": 1,
   "id": "5c22c273",
   "metadata": {},
   "outputs": [],
   "source": [
    "import numpy as np"
   ]
  },
  {
   "cell_type": "code",
   "execution_count": 7,
   "id": "b9bf5ef7",
   "metadata": {},
   "outputs": [],
   "source": [
    "#qustion1\n",
    "array3=np.random.rand(2,3)"
   ]
  },
  {
   "cell_type": "code",
   "execution_count": 9,
   "id": "538cdc8c",
   "metadata": {},
   "outputs": [],
   "source": [
    "array4=np.random.rand(2,3)"
   ]
  },
  {
   "cell_type": "code",
   "execution_count": 10,
   "id": "ab4a8242",
   "metadata": {},
   "outputs": [],
   "source": [
    "sumarray=array3+array3"
   ]
  },
  {
   "cell_type": "code",
   "execution_count": 11,
   "id": "821f633a",
   "metadata": {},
   "outputs": [
    {
     "data": {
      "text/plain": [
       "array([[1.38867363, 1.06035215, 1.14507003],\n",
       "       [0.07849808, 1.45820063, 1.77574057]])"
      ]
     },
     "execution_count": 11,
     "metadata": {},
     "output_type": "execute_result"
    }
   ],
   "source": [
    "sumarray"
   ]
  },
  {
   "cell_type": "code",
   "execution_count": 12,
   "id": "a5202af2",
   "metadata": {},
   "outputs": [],
   "source": [
    "#qustion2\n",
    "a = np.array([[2.5, 3.8, 1.5],[4.7, 2.9, 1.56]])\n",
    "a.dtype=\"int\""
   ]
  },
  {
   "cell_type": "code",
   "execution_count": 13,
   "id": "32da28e8",
   "metadata": {},
   "outputs": [
    {
     "data": {
      "text/plain": [
       "dtype('int32')"
      ]
     },
     "execution_count": 13,
     "metadata": {},
     "output_type": "execute_result"
    }
   ],
   "source": [
    "a.dtype"
   ]
  },
  {
   "cell_type": "code",
   "execution_count": 14,
   "id": "daf84a26",
   "metadata": {},
   "outputs": [],
   "source": [
    "#qustion3\n",
    "b = np.array([[1, 0, 0],[1, 1, 1],[0, 0, 0]])\n",
    "b.dtype=\"bool\""
   ]
  },
  {
   "cell_type": "code",
   "execution_count": 15,
   "id": "cff95f34",
   "metadata": {},
   "outputs": [
    {
     "data": {
      "text/plain": [
       "array([[ True, False, False, False, False, False, False, False, False,\n",
       "        False, False, False],\n",
       "       [ True, False, False, False,  True, False, False, False,  True,\n",
       "        False, False, False],\n",
       "       [False, False, False, False, False, False, False, False, False,\n",
       "        False, False, False]])"
      ]
     },
     "execution_count": 15,
     "metadata": {},
     "output_type": "execute_result"
    }
   ],
   "source": [
    "b"
   ]
  },
  {
   "cell_type": "code",
   "execution_count": 2,
   "id": "7e41e331",
   "metadata": {},
   "outputs": [],
   "source": [
    "#qustion4\n",
    "array1=np.full((2,3),5)"
   ]
  },
  {
   "cell_type": "code",
   "execution_count": 3,
   "id": "9b0a9955",
   "metadata": {},
   "outputs": [
    {
     "data": {
      "text/plain": [
       "array([[5, 5, 5],\n",
       "       [5, 5, 5]])"
      ]
     },
     "execution_count": 3,
     "metadata": {},
     "output_type": "execute_result"
    }
   ],
   "source": [
    "array1"
   ]
  },
  {
   "cell_type": "code",
   "execution_count": 16,
   "id": "d678b823",
   "metadata": {},
   "outputs": [
    {
     "name": "stdout",
     "output_type": "stream",
     "text": [
      "[[[6 3 7 4 6 9 2 6 7 4]\n",
      "  [3 7 7 2 5 4 1 7 5 1]]\n",
      "\n",
      " [[4 0 9 5 8 0 9 2 6 3]\n",
      "  [8 2 4 2 6 4 8 6 1 3]]]\n"
     ]
    }
   ],
   "source": [
    "#qustion5\n",
    "v=np.random.seed(42)\n",
    "M = np.random.randint(10, size=(2,2,10))\n",
    "print(M)\n"
   ]
  },
  {
   "cell_type": "code",
   "execution_count": 28,
   "id": "df6ebbd6",
   "metadata": {},
   "outputs": [
    {
     "data": {
      "text/plain": [
       "array([[4, 1],\n",
       "       [3, 3]])"
      ]
     },
     "execution_count": 28,
     "metadata": {},
     "output_type": "execute_result"
    }
   ],
   "source": [
    "M[:,:,-1]"
   ]
  },
  {
   "cell_type": "code",
   "execution_count": 52,
   "id": "3fb5e580",
   "metadata": {},
   "outputs": [
    {
     "data": {
      "text/plain": [
       "array([3, 7, 5, 1, 5])"
      ]
     },
     "execution_count": 52,
     "metadata": {},
     "output_type": "execute_result"
    }
   ],
   "source": [
    "M[0,1,::2]"
   ]
  },
  {
   "cell_type": "code",
   "execution_count": 55,
   "id": "0d310f4d",
   "metadata": {},
   "outputs": [
    {
     "data": {
      "text/plain": [
       "array([[[3, 4, 9, 6, 4],\n",
       "        [7, 2, 4, 7, 1]],\n",
       "\n",
       "       [[0, 5, 0, 2, 3],\n",
       "        [2, 2, 4, 6, 3]]])"
      ]
     },
     "execution_count": 55,
     "metadata": {},
     "output_type": "execute_result"
    }
   ],
   "source": [
    "M[:,:,1::2]"
   ]
  },
  {
   "cell_type": "code",
   "execution_count": 74,
   "id": "42a83133",
   "metadata": {},
   "outputs": [],
   "source": [
    "y=np.random.normal(2,10,(2,3))"
   ]
  },
  {
   "cell_type": "code",
   "execution_count": 75,
   "id": "7bb91243",
   "metadata": {},
   "outputs": [
    {
     "data": {
      "text/plain": [
       "array([  5.88078519, 105.80963555])"
      ]
     },
     "execution_count": 75,
     "metadata": {},
     "output_type": "execute_result"
    }
   ],
   "source": [
    "y.var(axis=1,dtype=float)"
   ]
  },
  {
   "cell_type": "code",
   "execution_count": 76,
   "id": "80d8348f",
   "metadata": {},
   "outputs": [
    {
     "ename": "IndexError",
     "evalue": "only integers, slices (`:`), ellipsis (`...`), numpy.newaxis (`None`) and integer or boolean arrays are valid indices",
     "output_type": "error",
     "traceback": [
      "\u001b[1;31m---------------------------------------------------------------------------\u001b[0m",
      "\u001b[1;31mIndexError\u001b[0m                                Traceback (most recent call last)",
      "\u001b[1;32m~\\AppData\\Local\\Temp/ipykernel_16892/1305375730.py\u001b[0m in \u001b[0;36m<module>\u001b[1;34m\u001b[0m\n\u001b[1;32m----> 1\u001b[1;33m \u001b[0mrelation\u001b[0m\u001b[1;33m=\u001b[0m\u001b[0mnp\u001b[0m\u001b[1;33m.\u001b[0m\u001b[0mcorrcoef\u001b[0m\u001b[1;33m(\u001b[0m\u001b[0ma\u001b[0m\u001b[1;33m[\u001b[0m\u001b[1;34m'achievement'\u001b[0m\u001b[1;33m]\u001b[0m\u001b[1;33m,\u001b[0m\u001b[0ma\u001b[0m\u001b[1;33m[\u001b[0m\u001b[1;34m'worry'\u001b[0m\u001b[1;33m]\u001b[0m\u001b[1;33m)\u001b[0m\u001b[1;33m\u001b[0m\u001b[1;33m\u001b[0m\u001b[0m\n\u001b[0m\u001b[0;32m      2\u001b[0m \u001b[0mrelation\u001b[0m\u001b[1;33m\u001b[0m\u001b[1;33m\u001b[0m\u001b[0m\n",
      "\u001b[1;31mIndexError\u001b[0m: only integers, slices (`:`), ellipsis (`...`), numpy.newaxis (`None`) and integer or boolean arrays are valid indices"
     ]
    }
   ],
   "source": []
  },
  {
   "cell_type": "code",
   "execution_count": null,
   "id": "38585791",
   "metadata": {},
   "outputs": [],
   "source": []
  }
 ],
 "metadata": {
  "kernelspec": {
   "display_name": "Python 3 (ipykernel)",
   "language": "python",
   "name": "python3"
  },
  "language_info": {
   "codemirror_mode": {
    "name": "ipython",
    "version": 3
   },
   "file_extension": ".py",
   "mimetype": "text/x-python",
   "name": "python",
   "nbconvert_exporter": "python",
   "pygments_lexer": "ipython3",
   "version": "3.9.7"
  }
 },
 "nbformat": 4,
 "nbformat_minor": 5
}
