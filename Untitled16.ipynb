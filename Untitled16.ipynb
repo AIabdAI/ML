{
 "cells": [
  {
   "cell_type": "code",
   "execution_count": 50,
   "id": "8fc7a320",
   "metadata": {},
   "outputs": [],
   "source": [
    "class datapro:\n",
    "    def __init__(self,name,data,tar):\n",
    "        self.Name = name\n",
    "        self.Data = data\n",
    "        self.Tarqet=tar\n",
    "    def prop(self):\n",
    "        import numpy as np\n",
    "        import pandas as pd\n",
    "        x=self.Data.drop(self.Tarqet,axis=1)\n",
    "        typcat=(x.dtypes!=float) & (x.dtypes!='int64')\n",
    "        strcolumn=np.array(typcat.index[typcat==True])#اسماء الاعمدة النصية\n",
    "        ##numcolumn=np.array(typcat.index[typcat==False])\n",
    "        NumData=x.drop(strcolumn,axis=1)\n",
    "        if strcolumn!=[]:\n",
    "            TextData=x.filter(strcolumn,axis=1)\n",
    "            CatTextData=pd.get_dummies(TextData,drop_first=True)\n",
    "            x = pd.concat([NumData, CatTextData], axis = 1)\n",
    "            self.x = pd.concat([NumData, CatTextData], axis = 1)\n",
    "        else:\n",
    "            x=NumData\n",
    "            self.x=NumData\n",
    "        \n",
    "        self.y=self.Data[self.Tarqet]\n",
    "        return x\n",
    "    def splitdat(self,siz=0.20):\n",
    "        from sklearn.model_selection import train_test_split\n",
    "        self.x_train, self.x_test, self.y_train, self.y_test = train_test_split(self.x, self.y,test_size=siz, random_state=0)\n",
    "        print(\"------------------head of x_train----------------\")\n",
    "        print(self.x_train.head())\n",
    "        print(\"##########################################\")\n",
    "        print(\"------------------head of x_test------------------\")\n",
    "        print(self.x_test.head())\n",
    "        print(\"##########################################\")\n",
    "        print(\"------------------head of y_train------------------\")\n",
    "        print(self.y_train.head())\n",
    "        print(\"##########################################\")\n",
    "        print(\"------------------head of y_test---------------------\")\n",
    "        print(self.y_test.head())\n",
    "    def randre(self):\n",
    "        from sklearn.preprocessing import StandardScaler\n",
    "        import pickle\n",
    "        from sklearn.ensemble import RandomForestRegressor\n",
    "        rf_reg = RandomForestRegressor(random_state=42, n_estimators=500)\n",
    "        regressor = rf_reg.fit(self.x_train, self.y_train)\n",
    "        filename = self.Name + '.sav'\n",
    "        pickle.dump(regressor, open(filename, 'wb'))\n",
    "        y_pred = regressor.predict(self.x_test)\n",
    "        from sklearn import metrics\n",
    "        print ('Mean Absolute Error:' , metrics.mean_absolute_error(self.y_test, y_pred))\n",
    "        print ('Mean Squared Error:' , metrics.mean_squared_error(self.y_test, y_pred))\n",
    "        print ('Root Mean Squared Error:' , np.sqrt(metrics.mean_squared_error(self.y_test,y_pred)))\n",
    "\n",
    "  \n",
    "\n",
    "dataprom=[\"prop\",\"splitdat\",\"aa->liner regrrisson\",\"knnre\",\"randre\",\"svrre\"]"
   ]
  },
  {
   "cell_type": "code",
   "execution_count": 51,
   "id": "92885c26",
   "metadata": {},
   "outputs": [
    {
     "data": {
      "text/html": [
       "<div>\n",
       "<style scoped>\n",
       "    .dataframe tbody tr th:only-of-type {\n",
       "        vertical-align: middle;\n",
       "    }\n",
       "\n",
       "    .dataframe tbody tr th {\n",
       "        vertical-align: top;\n",
       "    }\n",
       "\n",
       "    .dataframe thead th {\n",
       "        text-align: right;\n",
       "    }\n",
       "</style>\n",
       "<table border=\"1\" class=\"dataframe\">\n",
       "  <thead>\n",
       "    <tr style=\"text-align: right;\">\n",
       "      <th></th>\n",
       "      <th>Date/Time</th>\n",
       "      <th>LV ActivePower (kW)</th>\n",
       "      <th>Wind Speed (m/s)</th>\n",
       "      <th>Theoretical_Power_Curve (KWh)</th>\n",
       "      <th>Wind Direction (°)</th>\n",
       "    </tr>\n",
       "  </thead>\n",
       "  <tbody>\n",
       "    <tr>\n",
       "      <th>0</th>\n",
       "      <td>01 01 2018 00:00</td>\n",
       "      <td>380.047791</td>\n",
       "      <td>5.311336</td>\n",
       "      <td>416.328908</td>\n",
       "      <td>259.994904</td>\n",
       "    </tr>\n",
       "    <tr>\n",
       "      <th>1</th>\n",
       "      <td>01 01 2018 00:10</td>\n",
       "      <td>453.769196</td>\n",
       "      <td>5.672167</td>\n",
       "      <td>519.917511</td>\n",
       "      <td>268.641113</td>\n",
       "    </tr>\n",
       "    <tr>\n",
       "      <th>2</th>\n",
       "      <td>01 01 2018 00:20</td>\n",
       "      <td>306.376587</td>\n",
       "      <td>5.216037</td>\n",
       "      <td>390.900016</td>\n",
       "      <td>272.564789</td>\n",
       "    </tr>\n",
       "    <tr>\n",
       "      <th>3</th>\n",
       "      <td>01 01 2018 00:30</td>\n",
       "      <td>419.645905</td>\n",
       "      <td>5.659674</td>\n",
       "      <td>516.127569</td>\n",
       "      <td>271.258087</td>\n",
       "    </tr>\n",
       "    <tr>\n",
       "      <th>4</th>\n",
       "      <td>01 01 2018 00:40</td>\n",
       "      <td>380.650696</td>\n",
       "      <td>5.577941</td>\n",
       "      <td>491.702972</td>\n",
       "      <td>265.674286</td>\n",
       "    </tr>\n",
       "  </tbody>\n",
       "</table>\n",
       "</div>"
      ],
      "text/plain": [
       "          Date/Time  LV ActivePower (kW)  Wind Speed (m/s)  \\\n",
       "0  01 01 2018 00:00           380.047791          5.311336   \n",
       "1  01 01 2018 00:10           453.769196          5.672167   \n",
       "2  01 01 2018 00:20           306.376587          5.216037   \n",
       "3  01 01 2018 00:30           419.645905          5.659674   \n",
       "4  01 01 2018 00:40           380.650696          5.577941   \n",
       "\n",
       "   Theoretical_Power_Curve (KWh)  Wind Direction (°)  \n",
       "0                     416.328908          259.994904  \n",
       "1                     519.917511          268.641113  \n",
       "2                     390.900016          272.564789  \n",
       "3                     516.127569          271.258087  \n",
       "4                     491.702972          265.674286  "
      ]
     },
     "execution_count": 51,
     "metadata": {},
     "output_type": "execute_result"
    }
   ],
   "source": [
    "#هذه الداتا مطلوبة\n",
    "df_gen_win_sek=pd.read_csv(r\"/home/ai/سطح المكتب/enargy clean project/سكادا لتربينات الرياح/T1.csv\")\n",
    "sek_train=df_gen_win_sek.drop([\"Date/Time\",\"Theoretical_Power_Curve (KWh)\"],axis=1)\n",
    "#sek_test=df_gen_win_sek[int(df_gen_win_sek.shape[0]):2]\n",
    "\n",
    "df_gen_win_sek.head()"
   ]
  },
  {
   "cell_type": "code",
   "execution_count": 52,
   "id": "ed3dfa29",
   "metadata": {},
   "outputs": [],
   "source": [
    "enrgy_p=datapro(\"توقع-انتاج-طاقة-الرياح\",sek_train,\"LV ActivePower (kW)\")"
   ]
  },
  {
   "cell_type": "code",
   "execution_count": 53,
   "id": "8812cf0c",
   "metadata": {},
   "outputs": [
    {
     "name": "stderr",
     "output_type": "stream",
     "text": [
      "/tmp/ipykernel_1870/2813305618.py:17: DeprecationWarning: The truth value of an empty array is ambiguous. Returning False, but in future this will result in an error. Use `array.size > 0` to check that an array is not empty.\n",
      "  if strcolumn!=[]:\n"
     ]
    },
    {
     "data": {
      "text/html": [
       "<div>\n",
       "<style scoped>\n",
       "    .dataframe tbody tr th:only-of-type {\n",
       "        vertical-align: middle;\n",
       "    }\n",
       "\n",
       "    .dataframe tbody tr th {\n",
       "        vertical-align: top;\n",
       "    }\n",
       "\n",
       "    .dataframe thead th {\n",
       "        text-align: right;\n",
       "    }\n",
       "</style>\n",
       "<table border=\"1\" class=\"dataframe\">\n",
       "  <thead>\n",
       "    <tr style=\"text-align: right;\">\n",
       "      <th></th>\n",
       "      <th>Wind Speed (m/s)</th>\n",
       "      <th>Wind Direction (°)</th>\n",
       "    </tr>\n",
       "  </thead>\n",
       "  <tbody>\n",
       "    <tr>\n",
       "      <th>0</th>\n",
       "      <td>5.311336</td>\n",
       "      <td>259.994904</td>\n",
       "    </tr>\n",
       "    <tr>\n",
       "      <th>1</th>\n",
       "      <td>5.672167</td>\n",
       "      <td>268.641113</td>\n",
       "    </tr>\n",
       "    <tr>\n",
       "      <th>2</th>\n",
       "      <td>5.216037</td>\n",
       "      <td>272.564789</td>\n",
       "    </tr>\n",
       "    <tr>\n",
       "      <th>3</th>\n",
       "      <td>5.659674</td>\n",
       "      <td>271.258087</td>\n",
       "    </tr>\n",
       "    <tr>\n",
       "      <th>4</th>\n",
       "      <td>5.577941</td>\n",
       "      <td>265.674286</td>\n",
       "    </tr>\n",
       "    <tr>\n",
       "      <th>...</th>\n",
       "      <td>...</td>\n",
       "      <td>...</td>\n",
       "    </tr>\n",
       "    <tr>\n",
       "      <th>50525</th>\n",
       "      <td>11.404030</td>\n",
       "      <td>80.502724</td>\n",
       "    </tr>\n",
       "    <tr>\n",
       "      <th>50526</th>\n",
       "      <td>7.332648</td>\n",
       "      <td>84.062599</td>\n",
       "    </tr>\n",
       "    <tr>\n",
       "      <th>50527</th>\n",
       "      <td>8.435358</td>\n",
       "      <td>84.742500</td>\n",
       "    </tr>\n",
       "    <tr>\n",
       "      <th>50528</th>\n",
       "      <td>9.421366</td>\n",
       "      <td>84.297913</td>\n",
       "    </tr>\n",
       "    <tr>\n",
       "      <th>50529</th>\n",
       "      <td>9.979332</td>\n",
       "      <td>82.274620</td>\n",
       "    </tr>\n",
       "  </tbody>\n",
       "</table>\n",
       "<p>50530 rows × 2 columns</p>\n",
       "</div>"
      ],
      "text/plain": [
       "       Wind Speed (m/s)  Wind Direction (°)\n",
       "0              5.311336          259.994904\n",
       "1              5.672167          268.641113\n",
       "2              5.216037          272.564789\n",
       "3              5.659674          271.258087\n",
       "4              5.577941          265.674286\n",
       "...                 ...                 ...\n",
       "50525         11.404030           80.502724\n",
       "50526          7.332648           84.062599\n",
       "50527          8.435358           84.742500\n",
       "50528          9.421366           84.297913\n",
       "50529          9.979332           82.274620\n",
       "\n",
       "[50530 rows x 2 columns]"
      ]
     },
     "execution_count": 53,
     "metadata": {},
     "output_type": "execute_result"
    }
   ],
   "source": [
    "enrgy_p.prop()"
   ]
  },
  {
   "cell_type": "code",
   "execution_count": 54,
   "id": "9001f293",
   "metadata": {},
   "outputs": [
    {
     "name": "stdout",
     "output_type": "stream",
     "text": [
      "------------------head of x_train----------------\n",
      "       Wind Speed (m/s)  Wind Direction (°)\n",
      "47463          5.559018           66.590202\n",
      "46996          7.291270           25.932261\n",
      "14651          3.487927          173.011093\n",
      "2032           4.206711           84.811241\n",
      "31824          5.892188           69.172913\n",
      "##########################################\n",
      "------------------head of x_test------------------\n",
      "       Wind Speed (m/s)  Wind Direction (°)\n",
      "47469          5.952496           73.278328\n",
      "4456           8.134918           57.538979\n",
      "49305          8.207115          254.491394\n",
      "48151         11.830910          176.449707\n",
      "33422          4.290701           28.394060\n",
      "##########################################\n",
      "------------------head of y_train------------------\n",
      "47463     480.995300\n",
      "46996    1396.228027\n",
      "14651       0.000000\n",
      "2032        0.000000\n",
      "31824     415.625488\n",
      "Name: LV ActivePower (kW), dtype: float64\n",
      "##########################################\n",
      "------------------head of y_test---------------------\n",
      "47469     576.656982\n",
      "4456     1619.301025\n",
      "49305    1876.581055\n",
      "48151    3367.349121\n",
      "33422     151.391693\n",
      "Name: LV ActivePower (kW), dtype: float64\n"
     ]
    }
   ],
   "source": [
    "enrgy_p.splitdat()"
   ]
  },
  {
   "cell_type": "code",
   "execution_count": 55,
   "id": "62bcc97b",
   "metadata": {},
   "outputs": [
    {
     "name": "stdout",
     "output_type": "stream",
     "text": [
      "Mean Absolute Error: 165.52391294636413\n",
      "Mean Squared Error: 164052.32376593357\n",
      "Root Mean Squared Error: 405.03373163964204\n"
     ]
    }
   ],
   "source": [
    "enrgy_p.randre()"
   ]
  },
  {
   "cell_type": "code",
   "execution_count": 118,
   "id": "6b09f801",
   "metadata": {},
   "outputs": [
    {
     "name": "stdout",
     "output_type": "stream",
     "text": [
      "Mean Absolute Error: 168.7590963219291\n",
      "Mean Squared Error: 162950.15881242513\n",
      "Root Mean Squared Error: 403.6708545491303\n"
     ]
    }
   ],
   "source": [
    "enrgy_p.knnre()"
   ]
  },
  {
   "cell_type": "code",
   "execution_count": 119,
   "id": "ca64769c",
   "metadata": {},
   "outputs": [
    {
     "name": "stdout",
     "output_type": "stream",
     "text": [
      "Mean Absolute Error: 390.57947664203937\n",
      "Mean Squared Error: 293472.68306497304\n",
      "Root Mean Squared Error: 541.7311907809749\n"
     ]
    }
   ],
   "source": [
    "enrgy_p.lere()"
   ]
  },
  {
   "cell_type": "code",
   "execution_count": 138,
   "id": "b1e87ed5",
   "metadata": {},
   "outputs": [
    {
     "data": {
      "text/plain": [
       "1307.6843318793121"
      ]
     },
     "execution_count": 138,
     "metadata": {},
     "output_type": "execute_result"
    }
   ],
   "source": [
    "sek_train[\"LV ActivePower (kW)\"].mean()"
   ]
  },
  {
   "cell_type": "code",
   "execution_count": 73,
   "id": "f358fe64",
   "metadata": {},
   "outputs": [
    {
     "data": {
      "image/png": "[encoded data removed]",
      "text/plain": [
       "<Figure size 1800x720 with 2 Axes>"
      ]
     },
     "metadata": {
      "needs_background": "light"
     },
     "output_type": "display_data"
    }
   ],
   "source": [
    "import missingno as msno\n",
    "msno.matrix(sek_train);"
   ]
  },
  {
   "cell_type": "code",
   "execution_count": 16,
   "id": "dd1decb5",
   "metadata": {},
   "outputs": [],
   "source": [
    "import pickle\n",
    "filename = 'finalized_model2.sav'\n",
    "loaded_model = pickle.load(open(filename, 'rb'))\n"
   ]
  },
  {
   "cell_type": "code",
   "execution_count": 38,
   "id": "b2d9e08e",
   "metadata": {},
   "outputs": [],
   "source": [
    "rr=sek_train.drop([\"LV ActivePower (kW)\"],axis=1)\n",
    "ss=rr.values[10].reshape(1, -1)\n",
    "y_pred = loaded_model.predict(rr)"
   ]
  },
  {
   "cell_type": "code",
   "execution_count": 18,
   "id": "76ef8d0a",
   "metadata": {},
   "outputs": [
    {
     "data": {
      "text/plain": [
       "RandomForestRegressor(n_estimators=500, random_state=42)"
      ]
     },
     "execution_count": 18,
     "metadata": {},
     "output_type": "execute_result"
    }
   ],
   "source": [
    "loaded_model"
   ]
  },
  {
   "cell_type": "code",
   "execution_count": 34,
   "id": "55faa544",
   "metadata": {},
   "outputs": [
    {
     "data": {
      "text/plain": [
       "array([464.43769116])"
      ]
     },
     "execution_count": 34,
     "metadata": {},
     "output_type": "execute_result"
    }
   ],
   "source": [
    "y_pred"
   ]
  },
  {
   "cell_type": "code",
   "execution_count": 31,
   "id": "8a07ef3f",
   "metadata": {},
   "outputs": [
    {
     "data": {
      "text/plain": [
       "array([[  5.72411585, 251.85099792]])"
      ]
     },
     "execution_count": 31,
     "metadata": {},
     "output_type": "execute_result"
    }
   ],
   "source": [
    "ss"
   ]
  },
  {
   "cell_type": "code",
   "execution_count": 37,
   "id": "6fab005b",
   "metadata": {},
   "outputs": [
    {
     "data": {
      "text/plain": [
       "LV ActivePower (kW)    498.181702\n",
       "Wind Speed (m/s)         5.724116\n",
       "Wind Direction (°)     251.850998\n",
       "Name: 10, dtype: float64"
      ]
     },
     "execution_count": 37,
     "metadata": {},
     "output_type": "execute_result"
    }
   ],
   "source": [
    "sek_train.loc[10]"
   ]
  },
  {
   "cell_type": "code",
   "execution_count": 47,
   "id": "bb9162f4",
   "metadata": {},
   "outputs": [
    {
     "data": {
      "image/png": "[encoded data removed]",
      "text/plain": [
       "<Figure size 1296x432 with 1 Axes>"
      ]
     },
     "metadata": {
      "needs_background": "light"
     },
     "output_type": "display_data"
    }
   ],
   "source": [
    "import matplotlib.pyplot as plt\n",
    "data=sek_train[:300]\n",
    "plt.figure(figsize=(18,6))\n",
    "plt.plot(data[\"LV ActivePower (kW)\"], color='red', label='Actual sekada wind generation')\n",
    "plt.plot(y_pred[:300] , color='green', label='Predicted sekada wind generation')\n",
    "plt.title('sekada wind generation')\n",
    "plt.xlabel('Date')\n",
    "plt.ylabel('wind generation')\n",
    "plt.legend()\n",
    "plt.show()"
   ]
  },
  {
   "cell_type": "code",
   "execution_count": 40,
   "id": "a2a6e28c",
   "metadata": {},
   "outputs": [
    {
     "data": {
      "text/html": [
       "<div>\n",
       "<style scoped>\n",
       "    .dataframe tbody tr th:only-of-type {\n",
       "        vertical-align: middle;\n",
       "    }\n",
       "\n",
       "    .dataframe tbody tr th {\n",
       "        vertical-align: top;\n",
       "    }\n",
       "\n",
       "    .dataframe thead th {\n",
       "        text-align: right;\n",
       "    }\n",
       "</style>\n",
       "<table border=\"1\" class=\"dataframe\">\n",
       "  <thead>\n",
       "    <tr style=\"text-align: right;\">\n",
       "      <th></th>\n",
       "      <th>LV ActivePower (kW)</th>\n",
       "      <th>Wind Speed (m/s)</th>\n",
       "      <th>Wind Direction (°)</th>\n",
       "    </tr>\n",
       "  </thead>\n",
       "  <tbody>\n",
       "    <tr>\n",
       "      <th>0</th>\n",
       "      <td>380.047791</td>\n",
       "      <td>5.311336</td>\n",
       "      <td>259.994904</td>\n",
       "    </tr>\n",
       "    <tr>\n",
       "      <th>1</th>\n",
       "      <td>453.769196</td>\n",
       "      <td>5.672167</td>\n",
       "      <td>268.641113</td>\n",
       "    </tr>\n",
       "    <tr>\n",
       "      <th>2</th>\n",
       "      <td>306.376587</td>\n",
       "      <td>5.216037</td>\n",
       "      <td>272.564789</td>\n",
       "    </tr>\n",
       "    <tr>\n",
       "      <th>3</th>\n",
       "      <td>419.645905</td>\n",
       "      <td>5.659674</td>\n",
       "      <td>271.258087</td>\n",
       "    </tr>\n",
       "    <tr>\n",
       "      <th>4</th>\n",
       "      <td>380.650696</td>\n",
       "      <td>5.577941</td>\n",
       "      <td>265.674286</td>\n",
       "    </tr>\n",
       "    <tr>\n",
       "      <th>...</th>\n",
       "      <td>...</td>\n",
       "      <td>...</td>\n",
       "      <td>...</td>\n",
       "    </tr>\n",
       "    <tr>\n",
       "      <th>50525</th>\n",
       "      <td>2963.980957</td>\n",
       "      <td>11.404030</td>\n",
       "      <td>80.502724</td>\n",
       "    </tr>\n",
       "    <tr>\n",
       "      <th>50526</th>\n",
       "      <td>1684.353027</td>\n",
       "      <td>7.332648</td>\n",
       "      <td>84.062599</td>\n",
       "    </tr>\n",
       "    <tr>\n",
       "      <th>50527</th>\n",
       "      <td>2201.106934</td>\n",
       "      <td>8.435358</td>\n",
       "      <td>84.742500</td>\n",
       "    </tr>\n",
       "    <tr>\n",
       "      <th>50528</th>\n",
       "      <td>2515.694092</td>\n",
       "      <td>9.421366</td>\n",
       "      <td>84.297913</td>\n",
       "    </tr>\n",
       "    <tr>\n",
       "      <th>50529</th>\n",
       "      <td>2820.466064</td>\n",
       "      <td>9.979332</td>\n",
       "      <td>82.274620</td>\n",
       "    </tr>\n",
       "  </tbody>\n",
       "</table>\n",
       "<p>50530 rows × 3 columns</p>\n",
       "</div>"
      ],
      "text/plain": [
       "       LV ActivePower (kW)  Wind Speed (m/s)  Wind Direction (°)\n",
       "0               380.047791          5.311336          259.994904\n",
       "1               453.769196          5.672167          268.641113\n",
       "2               306.376587          5.216037          272.564789\n",
       "3               419.645905          5.659674          271.258087\n",
       "4               380.650696          5.577941          265.674286\n",
       "...                    ...               ...                 ...\n",
       "50525          2963.980957         11.404030           80.502724\n",
       "50526          1684.353027          7.332648           84.062599\n",
       "50527          2201.106934          8.435358           84.742500\n",
       "50528          2515.694092          9.421366           84.297913\n",
       "50529          2820.466064          9.979332           82.274620\n",
       "\n",
       "[50530 rows x 3 columns]"
      ]
     },
     "execution_count": 40,
     "metadata": {},
     "output_type": "execute_result"
    }
   ],
   "source": [
    "sek_train"
   ]
  },
  {
   "cell_type": "code",
   "execution_count": 74,
   "id": "c21f6bcb",
   "metadata": {},
   "outputs": [],
   "source": [
    "\n"
   ]
  },
  {
   "cell_type": "code",
   "execution_count": null,
   "id": "6987bbcb",
   "metadata": {},
   "outputs": [],
   "source": []
  }
 ],
 "metadata": {
  "kernelspec": {
   "display_name": "Python 3 (ipykernel)",
   "language": "python",
   "name": "python3"
  },
  "language_info": {
   "codemirror_mode": {
    "name": "ipython",
    "version": 3
   },
   "file_extension": ".py",
   "mimetype": "text/x-python",
   "name": "python",
   "nbconvert_exporter": "python",
   "pygments_lexer": "ipython3",
   "version": "3.9.7"
  }
 },
 "nbformat": 4,
 "nbformat_minor": 5
}
