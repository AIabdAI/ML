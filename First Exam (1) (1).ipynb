{
 "cells": [
  {
   "cell_type": "markdown",
   "id": "8c82bd23-13d3-4f48-a584-fb4d790e4ab1",
   "metadata": {
    "jp-MarkdownHeadingCollapsed": true,
    "tags": []
   },
   "source": [
    "\n",
    "# The first exam, please read the following:\n",
    "\n",
    "### <span style='color:yellow'> This exam covers python basics programming  </span>\n",
    "### <span style='color:yellow'> The weight of this exam is 20 mark. </span>\n",
    "### <span style='color:yellow'> The exam contains 4 sections, where each section score is 5 marks. </span>\n",
    "### <span style='color:yellow'> Use Jupyter notebook to, no need to use pycharm. </span>\n",
    "### <span style='color:yellow'> Make  your code readable by using specific comments. </span>\n",
    "\n",
    "### <span style='color:yellow'> Any copy and paste between students entails 0 scores for both.</span> \n",
    "### <span style='color:yellow'>The deadline to deliver the exam's solution is on next Monday 31/10/2022 at 23:59:00.</span>\n",
    "\n",
    "\n"
   ]
  },
  {
   "cell_type": "markdown",
   "id": "8f95ba6f-9e16-423a-9ebd-adaf2b940717",
   "metadata": {},
   "source": [
    "# Q1: Python If condition (5 marks)\n",
    "\n",
    "### <span style='color:yellow'> Q1.1. (2.5 marks) Using following list of cities per country,\n",
    "palestine = [\"gaza\", \"rafah\", \"nablus\"]\n",
    "    \n",
    "Egypt = [\"cairo\",\"sina\",\"almansoura\"]\n",
    "    \n",
    "Emirates = [\"dubai\", \"abudhabi\", \"sharqa\"]\n",
    "    \n",
    "Write a program that asks user to enter a city name and it should tell which country the city belongs to.</span>"
   ]
  },
  {
   "cell_type": "code",
   "execution_count": 1,
   "id": "9033b89f-c054-45d8-8006-ecd62fd9cd59",
   "metadata": {},
   "outputs": [
    {
     "name": "stdout",
     "output_type": "stream",
     "text": [
      "palestine\n",
      "unkown city\n",
      "Egypt\n"
     ]
    }
   ],
   "source": [
    "exit=False\n",
    "def findCountry():\n",
    "    \"\"\"\n",
    "    this function create program to find the country for each city. when ask you insert the city, you must insert the city and it give you the country\n",
    "    \"\"\"\n",
    "    global exit\n",
    "    city=input(\"insert city to find its country to exit press Q\")\n",
    "    palestine = [\"gaza\", \"rafah\", \"nablus\"]\n",
    "    Egypt = [\"cairo\",\"sina\",\"almansoura\"]\n",
    "    Emirates = [\"dubai\", \"abudhabi\", \"sharqa\"]\n",
    "    if city in palestine:\n",
    "        print(\"palestine\")\n",
    "    elif city in Egypt:\n",
    "        print(\"Egypt\")\n",
    "    elif city in Emirates:\n",
    "        print(\"Emirates\")\n",
    "    elif city == \"q\" or city == \"Q\":\n",
    "        exit=True\n",
    "    else:\n",
    "        print(\"unkown city\")\n",
    "while True:\n",
    "    findCountry()\n",
    "    if exit == True:\n",
    "        break    "
   ]
  },
  {
   "cell_type": "markdown",
   "id": "d8520e73-7bfb-465d-9c81-84ed1337767f",
   "metadata": {},
   "source": [
    "### <span style='color:yellow'> Q1.2. (2.5 marks) Write a python program that can tell you if your sugar is normal or not. Normal fasting level sugar range is 80 to 100.\n",
    "    \n",
    "1- Ask user to enter his fasting sugar level.\n",
    "    \n",
    "2- If it is below 80 to 100 range then print that sugar is low.\n",
    "    \n",
    "3- If it is above 100 then print that it is high otherwise print that it is normal.</span>"
   ]
  },
  {
   "cell_type": "code",
   "execution_count": 3,
   "id": "ca3b6600-5893-4aa7-928d-d52e76fbeb46",
   "metadata": {},
   "outputs": [
    {
     "name": "stdout",
     "output_type": "stream",
     "text": [
      "that sugar is low\n"
     ]
    }
   ],
   "source": [
    "exit = False\n",
    "def sugarLevel():\n",
    "    \"\"\"\n",
    "    this method create program to find status of level sugar if it High or Low or normal ,when it ask you insert ratio of sugere you must insert number and it will print status\n",
    "    \"\"\"\n",
    "    global exit\n",
    "    SuLevel=input(\"insert your  fasting level sugar to exit press Q\")\n",
    "    if SuLevel == \"q\" or SuLevel == \"Q\":\n",
    "        exit=True\n",
    "    elif int(SuLevel) < 80:\n",
    "        print(\"that sugar is low\")\n",
    "    elif int(SuLevel) > 100:\n",
    "        print(\"that it is high otherwise\")\n",
    "    elif  int(SuLevel) <= 100 and  int(SuLevel) >= 80:\n",
    "        print(\"that it is normal\")\n",
    "while True:\n",
    "    sugarLevel()\n",
    "    if exit == True:\n",
    "        break"
   ]
  },
  {
   "cell_type": "markdown",
   "id": "48ed9397-1d22-42f9-8e32-7a55b87f5293",
   "metadata": {},
   "source": [
    "# Q2: Functions in python (5 marks)\n"
   ]
  },
  {
   "cell_type": "markdown",
   "id": "294b76f2-28e6-49e7-983b-495eaf535fdb",
   "metadata": {},
   "source": [
    "### <span style='color:yellow'> Q2.1. (2.5 marks) Write a function called calculate_volume that takes height and radius as an input and returns the volume of a cylinder.\n",
    "\n",
    "The equation of a volume of a cylinder is,\n",
    "volume = pi*(square of radius)*height, where pi=3.14 </span>"
   ]
  },
  {
   "cell_type": "code",
   "execution_count": 4,
   "id": "0309ba4b-9157-444d-a4f8-9424569847c8",
   "metadata": {},
   "outputs": [
    {
     "data": {
      "text/plain": [
       "'volume of cylinder is 56.548667764616276 m³'"
      ]
     },
     "execution_count": 4,
     "metadata": {},
     "output_type": "execute_result"
    }
   ],
   "source": [
    "import math\n",
    "def calculate_volume(h,r):\n",
    "    \"\"\"\n",
    "    this function calculate volume of cylinder you must insert h = the Height and are = the radius in parameter\n",
    "    \"\"\"\n",
    "    return \"volume of cylinder is {} m³\".format(math.pi*(r**2)*h)\n",
    "calculate_volume(2,3)"
   ]
  },
  {
   "cell_type": "markdown",
   "id": "854929e6-03fa-44d1-9ae0-cd811bb5cdcb",
   "metadata": {},
   "source": [
    "### <span style='color:yellow'> Q2.2. (2.5 marks) Write a function called print_pattern that takes integer number as an argument and prints following pattern if input number is 5.\n",
    "    \n",
    "    * \n",
    "    **\n",
    "    ***\n",
    "    *****\n",
    "    ******\n",
    "\n",
    "</span>"
   ]
  },
  {
   "cell_type": "code",
   "execution_count": 1,
   "id": "7832c740-0fc9-4736-9f2c-d2f6402a6ff6",
   "metadata": {},
   "outputs": [
    {
     "name": "stdout",
     "output_type": "stream",
     "text": [
      "\n",
      "*\n",
      "**\n",
      "***\n",
      "****\n",
      "*****\n",
      "******\n"
     ]
    }
   ],
   "source": [
    "def print_pattern(num):\n",
    "    \"\"\"\n",
    "    this function draw stars look like trigon and in it base draws count of (NUM variable) +1 stars \n",
    "    \"\"\"\n",
    "    for x in range(num+2):\n",
    "        z=\"\"          \n",
    "        for y in range(x):\n",
    "            z+=\"*\"\n",
    "        print(z)\n",
    "print_pattern(5)\n",
    "  "
   ]
  },
  {
   "cell_type": "markdown",
   "id": "6d086d2a-e778-4e9f-98de-e87e725cfdee",
   "metadata": {},
   "source": [
    "# Q3: Class/  Multiple inheritance (5 marks)\n",
    "\n",
    "### <span style='color:yellow'> A3.1. (2.5 marks)  Create three classes with the names Teacher, Engineer, and Writer, and print the name of the class inside each one.</span>\n"
   ]
  },
  {
   "cell_type": "code",
   "execution_count": 16,
   "id": "6fb8833b-164d-46cd-b310-787c557c374f",
   "metadata": {},
   "outputs": [
    {
     "name": "stdout",
     "output_type": "stream",
     "text": [
      "Writer\n",
      "Engineer\n",
      "Teacher\n"
     ]
    }
   ],
   "source": [
    "class Writer:\n",
    "    def get_name(self):\n",
    "        print(self.__class__.__name__)\n",
    "class Engineer:\n",
    "    def get_name(self):\n",
    "        print(self.__class__.__name__)\n",
    "class Teacher:\n",
    "    def get_name(self):\n",
    "        print(self.__class__.__name__)\n",
    "aa=Writer()\n",
    "aa.get_name()\n",
    "bb=Engineer()\n",
    "bb.get_name()\n",
    "cc=Teacher()\n",
    "cc.get_name()"
   ]
  },
  {
   "cell_type": "markdown",
   "id": "d7716007-a461-4ec6-bc33-8a1a38b694a6",
   "metadata": {},
   "source": [
    "### <span style='color:yellow'> Q3.2. (2.5 marks)  Create three classes with names of the Teacher, Engineer, and Writer and print the name of the class inside each one. Then create a fourth class and name it a student that can inherit from the Teacher, Engineer, and Writer.</span>\n"
   ]
  },
  {
   "cell_type": "code",
   "execution_count": 19,
   "id": "b072d6ce-e8c0-4fcf-8d76-f6e9af36e4f8",
   "metadata": {},
   "outputs": [
    {
     "name": "stdout",
     "output_type": "stream",
     "text": [
      "Student\n"
     ]
    }
   ],
   "source": [
    "class Student(Teacher,Engineer,Writer):\n",
    "    pass\n",
    "ahmed=Student()\n",
    "ahmed.get_name()"
   ]
  },
  {
   "cell_type": "markdown",
   "id": "bb281d52-fc30-47a0-8631-6a826f2dc213",
   "metadata": {},
   "source": [
    "# Q4: Generators\n",
    "\n",
    "### <span style='color:yellow'> Q4. (5 marks)Create a Generator method using yield such that every time it will return the next square number for example 1 4 9 16. consider the limit of generation is 100.</span>"
   ]
  },
  {
   "cell_type": "code",
   "execution_count": 1,
   "id": "507e91dc-10b8-42c9-9f7f-56ee9a720d2f",
   "metadata": {},
   "outputs": [
    {
     "name": "stdout",
     "output_type": "stream",
     "text": [
      "1\n",
      "4\n",
      "9\n",
      "16\n",
      "25\n",
      "36\n",
      "49\n",
      "64\n",
      "81\n",
      "100\n",
      "121\n",
      "144\n",
      "169\n",
      "196\n",
      "225\n",
      "256\n",
      "289\n",
      "324\n",
      "361\n",
      "400\n",
      "441\n",
      "484\n",
      "529\n",
      "576\n",
      "625\n",
      "676\n",
      "729\n",
      "784\n",
      "841\n",
      "900\n",
      "961\n",
      "1024\n",
      "1089\n",
      "1156\n",
      "1225\n",
      "1296\n",
      "1369\n",
      "1444\n",
      "1521\n",
      "1600\n",
      "1681\n",
      "1764\n",
      "1849\n",
      "1936\n",
      "2025\n",
      "2116\n",
      "2209\n",
      "2304\n",
      "2401\n",
      "2500\n",
      "2601\n",
      "2704\n",
      "2809\n",
      "2916\n",
      "3025\n",
      "3136\n",
      "3249\n",
      "3364\n",
      "3481\n",
      "3600\n",
      "3721\n",
      "3844\n",
      "3969\n",
      "4096\n",
      "4225\n",
      "4356\n",
      "4489\n",
      "4624\n",
      "4761\n",
      "4900\n",
      "5041\n",
      "5184\n",
      "5329\n",
      "5476\n",
      "5625\n",
      "5776\n",
      "5929\n",
      "6084\n",
      "6241\n",
      "6400\n",
      "6561\n",
      "6724\n",
      "6889\n",
      "7056\n",
      "7225\n",
      "7396\n",
      "7569\n",
      "7744\n",
      "7921\n",
      "8100\n",
      "8281\n",
      "8464\n",
      "8649\n",
      "8836\n",
      "9025\n",
      "9216\n",
      "9409\n",
      "9604\n",
      "9801\n",
      "10000\n"
     ]
    }
   ],
   "source": [
    "generator=(x**2 for x in range(1,101))\n",
    "for x in range(100):\n",
    "    print(next(generator))"
   ]
  },
  {
   "cell_type": "code",
   "execution_count": null,
   "id": "c8cdab9d-7a99-42cb-9ff9-fed72cf7630d",
   "metadata": {},
   "outputs": [],
   "source": []
  }
 ],
 "metadata": {
  "kernelspec": {
   "display_name": "Python 3.9.7 ('base')",
   "language": "python",
   "name": "python3"
  },
  "language_info": {
   "codemirror_mode": {
    "name": "ipython",
    "version": 3
   },
   "file_extension": ".py",
   "mimetype": "text/x-python",
   "name": "python",
   "nbconvert_exporter": "python",
   "pygments_lexer": "ipython3",
   "version": "3.9.7"
  },
  "vscode": {
   "interpreter": {
    "hash": "dd4ca7dd7465a3d044287cb6a2b4d1d18d3ce70fbe162c400437d78078a8fd97"
   }
  }
 },
 "nbformat": 4,
 "nbformat_minor": 5
}
